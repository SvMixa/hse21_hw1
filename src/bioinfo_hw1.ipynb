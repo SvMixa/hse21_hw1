{
  "nbformat": 4,
  "nbformat_minor": 0,
  "metadata": {
    "colab": {
      "name": "bioinfo_hw1.ipynb",
      "provenance": [],
      "collapsed_sections": []
    },
    "kernelspec": {
      "name": "python3",
      "display_name": "Python 3"
    },
    "language_info": {
      "name": "python"
    }
  },
  "cells": [
    {
      "cell_type": "code",
      "metadata": {
        "id": "C7LguqVah1I0"
      },
      "source": [
        "import numpy as np"
      ],
      "execution_count": 89,
      "outputs": []
    },
    {
      "cell_type": "code",
      "metadata": {
        "id": "MuG1malCWcBE"
      },
      "source": [
        "def info(file):\n",
        "  data = []\n",
        "  current_line = ''\n",
        "  for line in file.readlines():\n",
        "    line = line.rstrip()\n",
        "    if line[0] == '>':\n",
        "      if current_line != \"\":\n",
        "        data.append(len(current_line))\n",
        "        current_line = ''\n",
        "    else:\n",
        "      current_line += line\n",
        "  return data\n",
        "\n",
        "def main_info(data):\n",
        "  data.sort(reverse=True)\n",
        "  summ = sum(data)\n",
        "  print('Общее количество контигов =', len(data))\n",
        "  print('Их общая длина =', summ)\n",
        "  print('Самый длинный контиг = ', data[0])\n",
        "  s = 0\n",
        "  i = -1\n",
        "  while s < summ//2:\n",
        "    i += 1\n",
        "    s += data[i]\n",
        "  print('N50 =', data[i])\n",
        "\n",
        "def main_info_s(data):\n",
        "  data.sort(reverse=True)\n",
        "  summ = sum(data)\n",
        "  print('Общее количество скаффолдов =', len(data))\n",
        "  print('Их общая длина =', summ)\n",
        "  print('Самый длинный скаффолд = ', data[0])\n",
        "  s = 0\n",
        "  i = -1\n",
        "  while s < summ//2:\n",
        "    i += 1\n",
        "    s += data[i]\n",
        "  print('N50 =', data[i])\n",
        "\n",
        "def biggest_scaffold(file):\n",
        "  biggest = ''\n",
        "  num = 0\n",
        "  current_line = ''\n",
        "  for line in file.readlines():\n",
        "    line = line.rstrip()\n",
        "    if line[0] == '>':\n",
        "      if current_line != \"\":\n",
        "        if num < len(current_line):\n",
        "          biggest = current_line\n",
        "          biggest_s = start\n",
        "          num = len(current_line)\n",
        "          current_line = ''\n",
        "      start = line\n",
        "    else:\n",
        "      current_line += line\n",
        "  return biggest, biggest_s\n",
        "\n",
        "def nnnn(big):\n",
        "  summ = []\n",
        "  k = 0\n",
        "  for s in range(len(big)):\n",
        "    if big[s] == 'N':\n",
        "      k += 1\n",
        "    else:\n",
        "      if k != 0:\n",
        "        summ.append(k)\n",
        "        k = 0\n",
        "  return summ"
      ],
      "execution_count": 97,
      "outputs": []
    },
    {
      "cell_type": "code",
      "metadata": {
        "colab": {
          "base_uri": "https://localhost:8080/"
        },
        "id": "tI8QRhtHWilc",
        "outputId": "a0c30331-10aa-486c-dd38-dc06d797922a"
      },
      "source": [
        "file = open(\"Poil_contig.fa\")\n",
        "print(\"Для контигов\")\n",
        "main_info(info(file))"
      ],
      "execution_count": 91,
      "outputs": [
        {
          "output_type": "stream",
          "name": "stdout",
          "text": [
            "Для контигов\n",
            "Общее количество контигов = 625\n",
            "Их общая длина = 3903068\n",
            "Самый длинный контиг =  164430\n",
            "N50 = 52799\n"
          ]
        }
      ]
    },
    {
      "cell_type": "code",
      "metadata": {
        "colab": {
          "base_uri": "https://localhost:8080/"
        },
        "id": "oYGKUhhgd1Gm",
        "outputId": "946431ff-15b1-485b-f1a0-478b68aaa89a"
      },
      "source": [
        "file = open(\"Poil_scaffold.fa\")\n",
        "print(\"Для скаффолдов\")\n",
        "main_info_s(info(file))"
      ],
      "execution_count": 92,
      "outputs": [
        {
          "output_type": "stream",
          "name": "stdout",
          "text": [
            "Для скаффолдов\n",
            "Общее количество скаффолдов = 67\n",
            "Их общая длина = 3875573\n",
            "Самый длинный скаффолд =  3838700\n",
            "N50 = 3838700\n"
          ]
        }
      ]
    },
    {
      "cell_type": "code",
      "metadata": {
        "colab": {
          "base_uri": "https://localhost:8080/"
        },
        "id": "bBGVqVpDhDf-",
        "outputId": "d94bff97-1f26-4012-f058-c2f62caf4c33"
      },
      "source": [
        "file = open(\"Poil_scaffold.fa\")\n",
        "big, _ = biggest_scaffold(file)\n",
        "summ = nnnn(big)\n",
        "print(len(summ), 'участков, состоящих из букв NNNN')\n",
        "print(sum(summ), 'их общая длина')"
      ],
      "execution_count": 93,
      "outputs": [
        {
          "output_type": "stream",
          "name": "stdout",
          "text": [
            "70 участков, состоящих из букв NNNN\n",
            "7098 их общая длина\n"
          ]
        }
      ]
    },
    {
      "cell_type": "code",
      "metadata": {
        "colab": {
          "base_uri": "https://localhost:8080/"
        },
        "id": "WUgVQ73YlSCh",
        "outputId": "c5f5526f-e1cd-4984-b7b7-6481960f579f"
      },
      "source": [
        "file = open(\"Poil_gapClosed.fa\")\n",
        "big, start = biggest_scaffold(file)\n",
        "summ = nnnn(big)\n",
        "print(len(summ), 'участков, состоящих из букв NNNN')\n",
        "print(sum(summ), 'их общая длина')"
      ],
      "execution_count": 98,
      "outputs": [
        {
          "output_type": "stream",
          "name": "stdout",
          "text": [
            "8 участков, состоящих из букв NNNN\n",
            "1833 их общая длина\n"
          ]
        }
      ]
    },
    {
      "cell_type": "code",
      "metadata": {
        "id": "0HWkG-Bu4WDq"
      },
      "source": [
        "f = open('longest.fasta', 'w')\n",
        "f.write(start + big)\n",
        "f.close()"
      ],
      "execution_count": 100,
      "outputs": []
    },
    {
      "cell_type": "code",
      "metadata": {
        "id": "IEWcwdVb49Fd"
      },
      "source": [
        ""
      ],
      "execution_count": null,
      "outputs": []
    }
  ]
}